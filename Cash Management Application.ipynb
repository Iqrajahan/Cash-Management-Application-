{
 "cells": [
  {
   "cell_type": "markdown",
   "id": "6c6441d6",
   "metadata": {},
   "source": [
    "<h1> <b><center>Cash Management Application Using Python</center></b></h1>"
   ]
  },
  {
   "cell_type": "markdown",
   "id": "72e102d9-614b-4a9a-a389-8fbc7dc96089",
   "metadata": {},
   "source": [
    "<h2><b>Usage</b></h2>\n",
    "<h3>This application can be used by the cashier at the counter in the bank.</h3>"
   ]
  },
  {
   "cell_type": "markdown",
   "id": "5b582bd1-eed0-487a-bc28-d208ce6290bd",
   "metadata": {},
   "source": [
    "<b><h2>Facilities</b></h2>\n",
    "<left><h3>The application is providing facilities listed below:</h3>"
   ]
  },
  {
   "cell_type": "raw",
   "id": "eeb52eb3-f7af-4d09-90c0-0d7ecf22f9cd",
   "metadata": {},
   "source": [
    "1.\tAdd a new customer to the system by accepting a minimum amount of $30\n",
    "2.\tAllow deposit of additional cash for an existing customer</h3>\n",
    "3.\tAllow cash withdrawal up to a cash-balance limit of $30 for an existing customer\n",
    "4.\tRetire an existing customer; delete a customer from the system only if the balance is below $30\n",
    "5.\tAllow the display of all customers\n",
    "6.\tAllow the user/cashier to quit the application"
   ]
  },
  {
   "cell_type": "raw",
   "id": "c22995e9-44aa-403c-aa5b-05b75cc28af4",
   "metadata": {},
   "source": [
    "1.\tThe mentioned facilities will appear to cashier in the form of a Menu\n",
    " \n",
    "Based on the menu chosen, the appropriate actions can be taken.\n",
    "\n",
    "2.\tThe customers below are present in the system. This data is stored in the program in a nested dictionary object with appropriate keys.\n",
    "\n",
    "custID   Name\t   Cash Balance\n",
    "C01\t     Ben       5500\n",
    "C02\t     Suzanne   6200\n",
    "C03\t     kitty     5800\n",
    "C04\t     Charles   7000\n",
    "\n",
    "3.\tUser-defined functions are written in this program to manage the transactions as per the menu item chosen and make function calls as required.\n",
    "4.\tManage value error exceptions for cash amount and also ensure that the minimum cash balance of $30 is maintained for the customers. Display appropriate messages wherever needed.\n",
    "5.\tProgram won't perform transactions that will update the system, If a customer id does not exist. An appropriate message will be displayed for this case. \n",
    "\n"
   ]
  },
  {
   "cell_type": "code",
   "execution_count": 1,
   "id": "6d795297",
   "metadata": {},
   "outputs": [],
   "source": [
    "#Storing the customer data in program in a nested dictionary object with appropriate keys to perform the required transactions on them.\n",
    "# load data\n",
    "\n",
    "def loadSystem():\n",
    "    global system\n",
    "    system = {'C01':{'Name':'Jane', 'Cash balance':5500},\n",
    "                 'C02':{'Name':'Suzanne', 'Cash balance':6200},\n",
    "                 'C03':{'Name':'Martha', 'Cash balance':5800}, \n",
    "                 'C04':{'Name':'Tom', 'Cash balance':7000}}\n",
    "    global CustomerIds\n",
    "    CustomerIds = system.keys()"
   ]
  },
  {
   "cell_type": "code",
   "execution_count": 2,
   "id": "37049698",
   "metadata": {},
   "outputs": [],
   "source": [
    "# increase quantity by the number added\n",
    "def add(CustID, Cash_balance):\n",
    "    # write code here\n",
    "    system[CustID]['Cash balance'] = system[CustID]['Cash balance'] + Cash_balance"
   ]
  },
  {
   "cell_type": "code",
   "execution_count": 3,
   "id": "da5c73c8",
   "metadata": {},
   "outputs": [],
   "source": [
    "# decrease quantity by the number subtracted\n",
    "def sub(CustID, Cash_balance):\n",
    "    # write code here\n",
    "    system[CustID]['Cash balance'] = system[CustID]['Cash balance'] - Cash_balance"
   ]
  },
  {
   "cell_type": "code",
   "execution_count": 4,
   "id": "45c2bfbb",
   "metadata": {},
   "outputs": [],
   "source": [
    "# create a new item in system\n",
    "def create(CustID, Name, Cash_balance):\n",
    "    # write code here\n",
    "    value = {'Name':Name, 'Cash balance':Cash_balance}\n",
    "    system[CustID] = value"
   ]
  },
  {
   "cell_type": "code",
   "execution_count": 5,
   "id": "ed0b39bb",
   "metadata": {},
   "outputs": [],
   "source": [
    "# delete an item from system\n",
    "def delete(CustID):\n",
    "    # write code here\n",
    "    del system[CustID]"
   ]
  },
  {
   "cell_type": "code",
   "execution_count": 6,
   "id": "2035bc2d",
   "metadata": {},
   "outputs": [],
   "source": [
    "# Deposit of additional cash for an existing customer\n",
    "\n",
    "def  Add_cash_for_existing():\n",
    "    # facilitate keyboard input of CustomerId and quantity; enable exception handling\n",
    "    # write code here\n",
    "    done = False\n",
    "    while not done:\n",
    "        try:\n",
    "            CustID   = input(\"Enter CustID: \")\n",
    "            Cash_balance = int(input(\"Enter Cash: \"))\n",
    "            done     = True\n",
    "        except (ValueError):\n",
    "            print(\"ValueError: Enter an integer value\")\n",
    "    \n",
    "    # write code here\n",
    "    if CustID in CustomerIds:\n",
    "        add(CustID, Cash_balance)\n",
    "        print(\"Cash added successfully\")\n",
    "    else: print(\"Cannot add cash: Costumer does not exist in system\")"
   ]
  },
  {
   "cell_type": "code",
   "execution_count": 7,
   "id": "049d29d2",
   "metadata": {},
   "outputs": [],
   "source": [
    "# Cash withdrawal up to a cash-balance limit of $30 for an existing customer\n",
    "# If a customer id does not exist, do not perform transactions that will update the system. Display an appropriate message for the same. \n",
    "# business function: substract from quantity of Customer; Customer must first exists and Customer quantity cannot be negative\n",
    "# print \"Cannot remove cash: Customer does not exist in system\" if Customer does not exist in system\n",
    "# print \"Quantity sold is greater than system quantity\" if resulting quantity is negative\n",
    "# print \"Customer sold successfully\" if transaction is successful\n",
    "def remove_cash_for_existing():\n",
    "    # facilitate keyboard input of itemId and quantity; enable exception handling\n",
    "    # write code here\n",
    "    LMT=30\n",
    "    done = False\n",
    "    while not done:\n",
    "        try:\n",
    "            CustID   = input(\"Enter CustID: \")\n",
    "            Cash_balance = int(input(\"Enter Cash balance: \"))\n",
    "            done     = True\n",
    "        except (ValueError):\n",
    "            print(\"ValueError: Enter an integer value\")    \n",
    "            \n",
    "    # write code here\n",
    "    if CustID in CustomerIds:\n",
    "        if system[CustID]['Cash balance']<=30:\n",
    "            print(\"Cannot remove cash: Cash balance limit of $30 dollars have alredy reached.\")\n",
    "        else:\n",
    "            if Cash_balance <= system[CustID]['Cash balance']-LMT:\n",
    "                sub(CustID, Cash_balance)\n",
    "                print(\"Cash removed from existing customer successfully\")\n",
    "            else: print(\"Cash amount asked to  be removed is greater than the existing cash amount after maintaining cash limit of 30 dollars\")\n",
    "    else: print(\"Cannot remove cash: Customer does not exist\")"
   ]
  },
  {
   "cell_type": "code",
   "execution_count": 8,
   "id": "43443f8a",
   "metadata": {},
   "outputs": [],
   "source": [
    "#1.\tAdd a new customer to the system by accepting a minimum amount of $30\n",
    "# business function: add a new Customer into system; same CustomerId must not have existed\n",
    "# print \"Cannot acquire: Customer is already in system\" if CustomerId already exists\n",
    "# print \"Customer acquired successfully\" if transaction is successful\n",
    "def Add_new_customer():\n",
    "    # facilitate keyboard input of CustomerId, Customer, price, and quantity; enable exception handling\n",
    "    # write code here  \n",
    "    done = False\n",
    "    while not done:\n",
    "        try:\n",
    "            CustID   = input(\"Enter CustID: \")\n",
    "            Name     = input(\"Enter Name: \")\n",
    "            Cash_balance = int(input(\"Enter Cash balance: \"))\n",
    "            done     = True\n",
    "        except (ValueError):\n",
    "            print(\"ValueError: Enter an integer value\")  \n",
    "            \n",
    "    # write code here    \n",
    "    if CustID in CustomerIds:\n",
    "        print(\"Cannot acquire: Customer is already in system\")\n",
    "    else: \n",
    "        if Cash_balance>=30:\n",
    "            create(CustID, Name, Cash_balance)\n",
    "            print(\"Customer acquired successfully\")\n",
    "        else:\n",
    "             print(\"Cannot acquire: Cash balance is lower than $30.\")"
   ]
  },
  {
   "cell_type": "code",
   "execution_count": 9,
   "id": "07bc39ec-1a9a-4a95-8007-4a6d03743b4c",
   "metadata": {},
   "outputs": [],
   "source": [
    "#4.\tRetire an existing customer; delete a customer from the system only if the balance is below $30\n",
    "# business function: delete a Customer from system; CustomerId must exist\n",
    "# print \"Cannot delete: Customer is not in system\" if Customer is not in system\n",
    "# print \"Customer retired successfully\" if transaction is successful\n",
    "def retire():\n",
    "    try:\n",
    "        CustID = input(\"Enter CustID: \")\n",
    "\n",
    "        if CustID in CustomerIds:\n",
    "            Cash_balance = system[CustID]['Cash balance']\n",
    "            if Cash_balance < 30:\n",
    "                delete(CustID)\n",
    "                print(\"Customer retired successfully\")\n",
    "            else:\n",
    "                print(\"Cannot delete: Cash balance is equal to or greater than $30\")\n",
    "        else:\n",
    "            print(\"Cannot delete: Customer is not in system\")\n",
    "    except KeyError as e:\n",
    "        print(f\"Error: {e}\")\n",
    "    except Exception as e:\n",
    "        print(f\"An unexpected error occurred: {e}\")"
   ]
  },
  {
   "cell_type": "code",
   "execution_count": 10,
   "id": "e053ca5c",
   "metadata": {},
   "outputs": [],
   "source": [
    "#5.\tAllow the display of all customers\n",
    "# business function: display all customers in system\n",
    "def display_all_customers():\n",
    "    # write code here\n",
    "    print(system)"
   ]
  },
  {
   "cell_type": "code",
   "execution_count": 11,
   "id": "a80aa92b",
   "metadata": {},
   "outputs": [],
   "source": [
    "#The mentioned facilities appear to the cashier in the form of a Menu as shown below:\n",
    " \n",
    "def menu():\n",
    "    print(\"\\nMENU\")\n",
    "    print(\"A. Add new customer\")\n",
    "    print(\"B. Add cash for existing customer\")\n",
    "    print(\"C. Remove cash for existing customer\")\n",
    "    print(\"D. Retire an existing customer\")\n",
    "    print(\"E. Display all customers\")\n",
    "    print(\"Q. Quit application\")\n",
    "    choice = input(\"SELECT CHOICE: \")\n",
    "    print(\"\\n\")\n",
    "    return choice"
   ]
  },
  {
   "cell_type": "code",
   "execution_count": null,
   "id": "75c697c5-1af7-4de5-83f7-7046fe375044",
   "metadata": {},
   "outputs": [
    {
     "name": "stdout",
     "output_type": "stream",
     "text": [
      "\n",
      "MENU\n",
      "A. Add new customer\n",
      "B. Add cash for existing customer\n",
      "C. Remove cash for existing customer\n",
      "D. Retire an existing customer\n",
      "E. Display all customers\n",
      "Q. Quit application\n"
     ]
    }
   ],
   "source": [
    "# main\n",
    "# load customers\n",
    "#Allowing the user/cashier to quit the application\n",
    "loadSystem()\n",
    "\n",
    "# despatch user's choice\n",
    "selected = \"X\"\n",
    "while selected != 'Q' and selected !='q':\n",
    "    if   selected == 'A' or selected =='a':\n",
    "        Add_new_customer()\n",
    "    elif   selected == 'B' or selected =='b':\n",
    "        Add_cash_for_existing()\n",
    "    elif selected == 'C' or selected =='c':\n",
    "        remove_cash_for_existing()\n",
    "    elif selected == 'D' or selected =='d':\n",
    "        retire()\n",
    "    elif selected == 'E' or selected =='e':\n",
    "        display_all_customers()\n",
    "    else: pass\n",
    "\n",
    "    selected = menu()\n"
   ]
  },
  {
   "cell_type": "code",
   "execution_count": null,
   "id": "47a9578c-66a4-4286-9169-3050dcf4b185",
   "metadata": {},
   "outputs": [],
   "source": []
  },
  {
   "cell_type": "markdown",
   "id": "a782f3e2-61a2-4381-9a33-5a8cff7bb2d7",
   "metadata": {},
   "source": [
    "# "
   ]
  }
 ],
 "metadata": {
  "kernelspec": {
   "display_name": "Python 3 (ipykernel)",
   "language": "python",
   "name": "python3"
  },
  "language_info": {
   "codemirror_mode": {
    "name": "ipython",
    "version": 3
   },
   "file_extension": ".py",
   "mimetype": "text/x-python",
   "name": "python",
   "nbconvert_exporter": "python",
   "pygments_lexer": "ipython3",
   "version": "3.11.7"
  }
 },
 "nbformat": 4,
 "nbformat_minor": 5
}
